{
 "cells": [
  {
   "cell_type": "code",
   "execution_count": 19,
   "metadata": {},
   "outputs": [],
   "source": [
    "import numpy as np\n",
    "import seaborn as sns\n",
    "import pandas as pd\n",
    "import matplotlib.pyplot as plt\n",
    "import csv\n",
    "import plotly.plotly as py"
   ]
  },
  {
   "cell_type": "code",
   "execution_count": 282,
   "metadata": {},
   "outputs": [
    {
     "name": "stdout",
     "output_type": "stream",
     "text": [
      "                              anon_MID  anon_Kwota                    LocCity\n",
      "10    a8e03f6d4283be3f2985fe324cc0f39d       31.99  Warszawa (Praga-Południe)\n",
      "13    b4f5bd3d3055332511681e290de32cfb       11.28          Warszawa (Bemowo)\n",
      "14    cf11ffc5fa1d7699459eb1f764496b26       76.91  Warszawa (Praga-Południe)\n",
      "17    b4f5bd3d3055332511681e290de32cfb       41.95          Warszawa (Bemowo)\n",
      "19    ae0b44ac765f3961292fc763f981e9ae       60.58          Warszawa (Bemowo)\n",
      "31    e3426b09541281c9149e7ed27a8260da       55.92         Warszawa (Ursynów)\n",
      "36    789d7c29611fd6901ba6c57a29a690e2      294.23            Warszawa (Wola)\n",
      "38    2c7f46fe10c788741690c237efe40eac        4.78         Warszawa (Ursynów)\n",
      "39    57cff8d75209097647252f28b93117f9       25.83         Warszawa (Ursynów)\n",
      "43    2805d70c4117c40ed3dde9cfe5a46a5e       35.96           Warszawa (Ursus)\n",
      "44    dd2c7a39dd1f35c74be7e248b2368920       34.12            Warszawa (Wola)\n",
      "45    dd2c7a39dd1f35c74be7e248b2368920       94.38            Warszawa (Wola)\n",
      "46    b9493a85d2828ff2aa76450edf7801f3       24.22            Warszawa (Wola)\n",
      "47    1050977f2768494fc75afd53dccdc4fa       55.74    Warszawa (Praga-Północ)\n",
      "50    b284b2324e5a2c1b8395909f426ca56b        6.19         Warszawa (Ursynów)\n",
      "51    204e02029ed31bf3a6b998369ff1176c       69.21  Warszawa (Praga-Południe)\n",
      "54    99ac8a0fe1869783e07ab01b7f762107       79.10  Warszawa (Praga-Południe)\n",
      "56    39cd6925d98f1797e0602a87262d11dc      282.35           Warszawa (Ursus)\n",
      "57    1c8b12948d88b53cc8deb225c1616e84       40.95         Warszawa (Ursynów)\n",
      "59    9c10df92728a95d8ce02ead9d5d85669       17.89    Warszawa (Praga-Północ)\n",
      "60    1c8b12948d88b53cc8deb225c1616e84       37.23         Warszawa (Ursynów)\n",
      "61    f2b707caa1be7a8ceb4bada53626c7be       20.96          Warszawa (Włochy)\n",
      "70    204e02029ed31bf3a6b998369ff1176c       73.16  Warszawa (Praga-Południe)\n",
      "71    1b9217900fa08c7e4ecbc33b3a5bf243       51.43         Warszawa (Ursynów)\n",
      "83    ac37c7bf7ea23dbbebe942b5719ce1fa       51.73       Warszawa (Rembertów)\n",
      "85    875dbd2d90c84908067c4a59c68c27f6       54.39          Warszawa (Bemowo)\n",
      "86    99ac8a0fe1869783e07ab01b7f762107       26.94  Warszawa (Praga-Południe)\n",
      "87    5e011f8f9274006820b014de7c2baab6       22.45       Warszawa (Białołęka)\n",
      "88    1050977f2768494fc75afd53dccdc4fa       46.78    Warszawa (Praga-Północ)\n",
      "89    911d55b8f1ae9b562a4060d4a2c7f7fa        3.82  Warszawa (Praga-Południe)\n",
      "...                                ...         ...                        ...\n",
      "1775  2c5f6b10e65cedcf3938f343294b92ca       52.20            Warszawa (Wola)\n",
      "1776  6312e7376dc46e2ca4dfbedf6110e77f       37.42    Warszawa (Praga-Północ)\n",
      "1777  8626889612461e93f2e8822686cd29fe       20.78         Warszawa (Mokotów)\n",
      "1779  10e082191e883d0ddac7654b164a98e2       42.13            Warszawa (Wola)\n",
      "1780  57cff8d75209097647252f28b93117f9      172.25         Warszawa (Ursynów)\n",
      "1781  8da9268882d445f977d9c73cf25572a7        8.22            Warszawa (Wola)\n",
      "1783  1a925a991f8bbc2ad1c2cb6d4eaf4b5d       12.99         Warszawa (Ursynów)\n",
      "1784  f3486bddd05d017950528f8aa57e1c0e       44.23       Warszawa (Rembertów)\n",
      "1785  f3486bddd05d017950528f8aa57e1c0e       12.56       Warszawa (Rembertów)\n",
      "1848  8186c64f13c55cd2db0169d8e7711e91       58.38         Warszawa (Ursynów)\n",
      "1851  219a12f82fb3d1bfe5e69188fde5acb5        4.71         Warszawa (Ursynów)\n",
      "1852  a8e03f6d4283be3f2985fe324cc0f39d      107.58  Warszawa (Praga-Południe)\n",
      "1854  789d7c29611fd6901ba6c57a29a690e2      -17.07            Warszawa (Wola)\n",
      "1855  d1430e72e2c49e2769978f5f0dc9026d       12.65          Warszawa (Bemowo)\n",
      "1856  b4f5bd3d3055332511681e290de32cfb       70.08          Warszawa (Bemowo)\n",
      "1857  6e63cf662c25f7f35ded7bf4873d35e8       15.82  Warszawa (Praga-Południe)\n",
      "1870  a8e03f6d4283be3f2985fe324cc0f39d       14.52  Warszawa (Praga-Południe)\n",
      "1871  cf11ffc5fa1d7699459eb1f764496b26       63.96  Warszawa (Praga-Południe)\n",
      "1872  606f5278f59789bc11b26300e9909bc1       86.82            Warszawa (Wola)\n",
      "1873  8626889612461e93f2e8822686cd29fe       40.03         Warszawa (Mokotów)\n",
      "1876  e3426b09541281c9149e7ed27a8260da       61.54         Warszawa (Ursynów)\n",
      "1877  0905999a278c94c42c2a8e4822c89af2       20.19          Warszawa (Bemowo)\n",
      "1879  c4dd273ae458ffe9b088b9ad6b5631e2      161.19  Warszawa (Praga-Południe)\n",
      "1890  efbfd801f517c44c410d007f6e4a4851       61.55            Warszawa (Wola)\n",
      "1891  60d0059fdb016b8dca12994b0ec6c1d2       87.25         Warszawa (Ursynów)\n",
      "1895  223808923cc57aed9a4149cda662db0f        5.48          Warszawa (Bemowo)\n",
      "1896  a2c4ca73d87510541909576b4e824139       59.45         Warszawa (Mokotów)\n",
      "1897  212d36be5218d61279aac7d2c4fc7899       36.34           Warszawa (Wawer)\n",
      "1898  49ecb5accf4af4eb1141af397c2875ab       37.09           Warszawa (Wawer)\n",
      "1900  869006bb91e94b16b61f69f68aec8037       13.22          Warszawa (Bemowo)\n",
      "\n",
      "[570 rows x 3 columns]\n",
      "                           anon_Kwota\n",
      "LocCity                              \n",
      "Warszawa (Bemowo)           42.445859\n",
      "Warszawa (Białołęka)        26.001379\n",
      "Warszawa (Mokotów)          34.701714\n",
      "Warszawa (Praga-Południe)   53.832975\n",
      "Warszawa (Praga-Północ)     57.500200\n",
      "Warszawa (Rembertów)        35.713750\n",
      "Warszawa (Ursus)            50.186842\n",
      "Warszawa (Ursynów)          49.195408\n",
      "Warszawa (Wawer)            37.942500\n",
      "Warszawa (Wola)             75.104674\n",
      "Warszawa (Włochy)           18.968571\n"
     ]
    }
   ],
   "source": [
    "data = pd.read_csv('/Users/karolsputo/projects/pekao/datavis/final_table.csv')\n",
    "\n",
    "data.drop(data[data.Code != 22].index, inplace=True)\n",
    "\n",
    "data = data[['anon_MID', 'anon_Kwota', 'LocCity']].copy()\n",
    "print(data)\n",
    "labels = data.LocCity\n",
    "data = data.groupby('LocCity').mean()\n",
    "print(data)"
   ]
  },
  {
   "cell_type": "code",
   "execution_count": 302,
   "metadata": {},
   "outputs": [],
   "source": [
    "data['tmp'] = ['Bemowo', 'Białołęka', 'Mokotów', 'Praga-Południe', 'Praga-Północ', 'Rembertów',\n",
    "               'Ursus', 'Ursynów', 'Wawer', 'Wola', 'Włochy']"
   ]
  },
  {
   "cell_type": "code",
   "execution_count": 303,
   "metadata": {},
   "outputs": [
    {
     "name": "stdout",
     "output_type": "stream",
     "text": [
      "                           anon_Kwota             tmp\n",
      "LocCity                                              \n",
      "Warszawa (Bemowo)           42.445859          Bemowo\n",
      "Warszawa (Białołęka)        26.001379       Białołęka\n",
      "Warszawa (Mokotów)          34.701714         Mokotów\n",
      "Warszawa (Praga-Południe)   53.832975  Praga-Południe\n",
      "Warszawa (Praga-Północ)     57.500200    Praga-Północ\n",
      "Warszawa (Rembertów)        35.713750       Rembertów\n",
      "Warszawa (Ursus)            50.186842           Ursus\n",
      "Warszawa (Ursynów)          49.195408         Ursynów\n",
      "Warszawa (Wawer)            37.942500           Wawer\n",
      "Warszawa (Wola)             75.104674            Wola\n",
      "Warszawa (Włochy)           18.968571          Włochy\n"
     ]
    }
   ],
   "source": [
    "print(data)"
   ]
  },
  {
   "cell_type": "code",
   "execution_count": null,
   "metadata": {},
   "outputs": [],
   "source": [
    "fig = sns.barplot(data=data, y=data.anon_Kwota, x=data.tmp)\n",
    "plt.ylabel('Średnia kwota transakcji [PLN]')\n",
    "plt.xlabel('Lokalizacja sklepu (dzielnica)')\n",
    "fig.set(xticklabels=data.tmp)\n",
    "plt.xticks(rotation=70)\n",
    "plt.savefig('plot.pdf', format='pdf', bbox_inches='tight')\n",
    "plt.show(fig)"
   ]
  },
  {
   "cell_type": "code",
   "execution_count": null,
   "metadata": {},
   "outputs": [],
   "source": []
  },
  {
   "cell_type": "code",
   "execution_count": null,
   "metadata": {},
   "outputs": [],
   "source": []
  },
  {
   "cell_type": "code",
   "execution_count": null,
   "metadata": {},
   "outputs": [],
   "source": []
  },
  {
   "cell_type": "code",
   "execution_count": null,
   "metadata": {},
   "outputs": [],
   "source": []
  },
  {
   "cell_type": "code",
   "execution_count": null,
   "metadata": {},
   "outputs": [],
   "source": []
  },
  {
   "cell_type": "code",
   "execution_count": null,
   "metadata": {},
   "outputs": [],
   "source": []
  },
  {
   "cell_type": "code",
   "execution_count": null,
   "metadata": {},
   "outputs": [],
   "source": []
  }
 ],
 "metadata": {
  "kernelspec": {
   "display_name": "Python 3",
   "language": "python",
   "name": "python3"
  },
  "language_info": {
   "codemirror_mode": {
    "name": "ipython",
    "version": 3
   },
   "file_extension": ".py",
   "mimetype": "text/x-python",
   "name": "python",
   "nbconvert_exporter": "python",
   "pygments_lexer": "ipython3",
   "version": "3.7.2"
  }
 },
 "nbformat": 4,
 "nbformat_minor": 2
}
